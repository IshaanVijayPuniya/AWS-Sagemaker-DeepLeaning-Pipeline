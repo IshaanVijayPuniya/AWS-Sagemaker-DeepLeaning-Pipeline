{
 "cells": [
  {
   "cell_type": "code",
   "execution_count": 3,
   "id": "68508b33-6e1f-4b21-ae50-0fddcc38efbb",
   "metadata": {},
   "outputs": [
    {
     "name": "stdout",
     "output_type": "stream",
     "text": [
      "sagemaker.config INFO - Not applying SDK defaults from location: C:\\ProgramData\\sagemaker\\sagemaker\\config.yaml\n",
      "sagemaker.config INFO - Not applying SDK defaults from location: C:\\Users\\ishaa\\AppData\\Local\\sagemaker\\sagemaker\\config.yaml\n"
     ]
    },
    {
     "name": "stderr",
     "output_type": "stream",
     "text": [
      "Couldn't call 'get_role' to get Role ARN from role name Ishaan to get Role path.\n"
     ]
    },
    {
     "ename": "ValueError",
     "evalue": "The current AWS identity is not a role: arn:aws:iam::465715950807:user/Ishaan, therefore it cannot be used as a SageMaker execution role",
     "output_type": "error",
     "traceback": [
      "\u001b[1;31m---------------------------------------------------------------------------\u001b[0m",
      "\u001b[1;31mValueError\u001b[0m                                Traceback (most recent call last)",
      "Cell \u001b[1;32mIn[3], line 9\u001b[0m\n\u001b[0;32m      7\u001b[0m \u001b[38;5;66;03m# SAGEMAKER SESSIONN\u001b[39;00m\n\u001b[0;32m      8\u001b[0m sagemaker_session \u001b[38;5;241m=\u001b[39m sagemaker\u001b[38;5;241m.\u001b[39mSession()\n\u001b[1;32m----> 9\u001b[0m role \u001b[38;5;241m=\u001b[39m get_execution_role()\n\u001b[0;32m     11\u001b[0m \u001b[38;5;66;03m# S3 BUCKET\u001b[39;00m\n\u001b[0;32m     12\u001b[0m s3_bucket \u001b[38;5;241m=\u001b[39m \u001b[38;5;124m'\u001b[39m\u001b[38;5;124myour-s3-bucket\u001b[39m\u001b[38;5;124m'\u001b[39m\n",
      "File \u001b[1;32m~\\anaconda3\\envs\\pyt\\Lib\\site-packages\\sagemaker\\session.py:7854\u001b[0m, in \u001b[0;36mget_execution_role\u001b[1;34m(sagemaker_session, use_default)\u001b[0m\n\u001b[0;32m   7848\u001b[0m     \u001b[38;5;28;01mreturn\u001b[39;00m iam_client\u001b[38;5;241m.\u001b[39mget_role(RoleName\u001b[38;5;241m=\u001b[39mdefault_role_name)[\u001b[38;5;124m\"\u001b[39m\u001b[38;5;124mRole\u001b[39m\u001b[38;5;124m\"\u001b[39m][\u001b[38;5;124m\"\u001b[39m\u001b[38;5;124mArn\u001b[39m\u001b[38;5;124m\"\u001b[39m]\n\u001b[0;32m   7850\u001b[0m message \u001b[38;5;241m=\u001b[39m (\n\u001b[0;32m   7851\u001b[0m     \u001b[38;5;124m\"\u001b[39m\u001b[38;5;124mThe current AWS identity is not a role: \u001b[39m\u001b[38;5;132;01m{}\u001b[39;00m\u001b[38;5;124m, therefore it cannot be used as a \u001b[39m\u001b[38;5;124m\"\u001b[39m\n\u001b[0;32m   7852\u001b[0m     \u001b[38;5;124m\"\u001b[39m\u001b[38;5;124mSageMaker execution role\u001b[39m\u001b[38;5;124m\"\u001b[39m\n\u001b[0;32m   7853\u001b[0m )\n\u001b[1;32m-> 7854\u001b[0m \u001b[38;5;28;01mraise\u001b[39;00m \u001b[38;5;167;01mValueError\u001b[39;00m(message\u001b[38;5;241m.\u001b[39mformat(arn))\n",
      "\u001b[1;31mValueError\u001b[0m: The current AWS identity is not a role: arn:aws:iam::465715950807:user/Ishaan, therefore it cannot be used as a SageMaker execution role"
     ]
    }
   ],
   "source": [
    "import sagemaker\n",
    "import boto3\n",
    "from sagemaker import get_execution_role\n",
    "from sagemaker.tensorflow import TensorFlow\n",
    "from sagemaker.tuner import HyperparameterTuner, ContinuousParameter, IntegerParameter\n",
    "\n",
    "# SAGEMAKER SESSIONN\n",
    "sagemaker_session = sagemaker.Session()\n",
    "role = get_execution_role()\n",
    "\n",
    "# S3 BUCKET\n",
    "s3_bucket = 'your-s3-bucket'\n",
    "s3_prefix = 'deep-learning-model/'\n",
    "\n",
    "# Upload the raw SENSOR data to S3\n",
    "train_data_uri = sagemaker_session.upload_data(path='data/train', bucket=s3_bucket, key_prefix=s3_prefix + 'train')\n",
    "validation_data_uri = sagemaker_session.upload_data(path='data/val', bucket=s3_bucket, key_prefix=s3_prefix + 'validation')\n",
    "\n",
    "# PYTHON Script to train\n",
    "entry_point_script = 'train.py'  # This will be the Python script containing your deep learning model code\n",
    "\n",
    "#  TensorFlow Estimator\n",
    "tf_estimator = TensorFlow(\n",
    "    entry_point=entry_point_script,\n",
    "    role=role,\n",
    "    framework_version='2.5',\n",
    "    py_version='py37',\n",
    "    instance_count=1,\n",
    "    instance_type='ml.m5.xlarge',\n",
    "    hyperparameters={\n",
    "        'epochs': 50,\n",
    "        'batch_size': 64,\n",
    "        'learning_rate': 0.001,\n",
    "    },\n",
    "    script_mode=True,\n",
    "    input_mode='File',\n",
    "    output_path=f's3://{s3_bucket}/{s3_prefix}/output',\n",
    "    base_job_name='deep-learning-raw-sensor'\n",
    ")\n",
    "\n",
    "# Define Hyperparameter ranges for tuning\n",
    "hyperparameter_ranges = {\n",
    "    'learning_rate': ContinuousParameter(0.0001, 0.1),\n",
    "    'batch_size': IntegerParameter(32, 128),\n",
    "    'dropout_rate': ContinuousParameter(0.2, 0.5),\n",
    "    'num_layers': IntegerParameter(1, 5),\n",
    "}\n",
    "\n",
    "objective_metric_name = 'val_accuracy'\n",
    "objective_type = 'Maximize'  # Could also be 'Minimize' for metrics like loss\n",
    "\n",
    "# Set up the Tuner\n",
    "tuner = HyperparameterTuner(\n",
    "    estimator=tf_estimator,\n",
    "    objective_metric_name=objective_metric_name,\n",
    "    objective_type=objective_type,\n",
    "    hyperparameter_ranges=hyperparameter_ranges,\n",
    "    max_jobs=20,  # Max number of HPO jobs\n",
    "    max_parallel_jobs=3  # How many can run in parallel\n",
    ")\n",
    "input_data = {\n",
    "    'train': train_data_uri,\n",
    "    'validation': validation_data_uri\n",
    "}\n",
    "\n",
    "# Start hyperparameter tuning job\n",
    "tuner.fit(inputs=input_data)\n",
    "\n",
    "# After tuning completes, you can deploy the best model automatically\n",
    "best_estimator = tuner.best_estimator()\n",
    "best_estimator.deploy(\n",
    "    initial_instance_count=1,\n",
    "    instance_type='ml.m5.large',\n",
    "    endpoint_name='sensor-data-model-endpoint'\n",
    ")\n"
   ]
  },
  {
   "cell_type": "code",
   "execution_count": null,
   "id": "04f7203c-8632-47cb-85ad-a1f13262078e",
   "metadata": {},
   "outputs": [],
   "source": []
  }
 ],
 "metadata": {
  "kernelspec": {
   "display_name": "Python 3 (ipykernel)",
   "language": "python",
   "name": "python3"
  },
  "language_info": {
   "codemirror_mode": {
    "name": "ipython",
    "version": 3
   },
   "file_extension": ".py",
   "mimetype": "text/x-python",
   "name": "python",
   "nbconvert_exporter": "python",
   "pygments_lexer": "ipython3",
   "version": "3.11.5"
  }
 },
 "nbformat": 4,
 "nbformat_minor": 5
}
